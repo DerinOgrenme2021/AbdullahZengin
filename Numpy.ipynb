{
  "nbformat": 4,
  "nbformat_minor": 0,
  "metadata": {
    "colab": {
      "name": "Numpy.ipynb",
      "provenance": [],
      "authorship_tag": "ABX9TyOtnaVe05xUUMoIg3OrdJhL",
      "include_colab_link": true
    },
    "kernelspec": {
      "name": "python3",
      "display_name": "Python 3"
    },
    "language_info": {
      "name": "python"
    }
  },
  "cells": [
    {
      "cell_type": "markdown",
      "metadata": {
        "id": "view-in-github",
        "colab_type": "text"
      },
      "source": [
        "<a href=\"https://colab.research.google.com/github/DerinOgrenme2021/AbdullahZengin/blob/main/Numpy.ipynb\" target=\"_parent\"><img src=\"https://colab.research.google.com/assets/colab-badge.svg\" alt=\"Open In Colab\"/></a>"
      ]
    },
    {
      "cell_type": "code",
      "metadata": {
        "colab": {
          "base_uri": "https://localhost:8080/"
        },
        "id": "jSG9ooah0PcO",
        "outputId": "dfe65469-4092-428d-ee7b-96fdcf1e108e"
      },
      "source": [
        "#Adresteki sıkıştırılmış datayı indir\n",
        "!wget http://vis-www.cs.umass.edu/lfw/lfw-a.tgz\n"
      ],
      "execution_count": 2,
      "outputs": [
        {
          "output_type": "stream",
          "text": [
            "--2021-04-18 21:19:21--  http://vis-www.cs.umass.edu/lfw/lfw-a.tgz\n",
            "Resolving vis-www.cs.umass.edu (vis-www.cs.umass.edu)... 128.119.244.95\n",
            "Connecting to vis-www.cs.umass.edu (vis-www.cs.umass.edu)|128.119.244.95|:80... connected.\n",
            "HTTP request sent, awaiting response... 200 OK\n",
            "Length: 14486641 (14M) [application/x-gzip]\n",
            "Saving to: ‘lfw-a.tgz’\n",
            "\n",
            "lfw-a.tgz           100%[===================>]  13.82M  6.61MB/s    in 2.1s    \n",
            "\n",
            "2021-04-18 21:19:24 (6.61 MB/s) - ‘lfw-a.tgz’ saved [14486641/14486641]\n",
            "\n"
          ],
          "name": "stdout"
        }
      ]
    },
    {
      "cell_type": "code",
      "metadata": {
        "id": "k6a87GLZ23Rv"
      },
      "source": [
        "#İndirdiğimiz dosyayı klasöre açmak için\n",
        "!tar xvzf lfw-a.tgz"
      ],
      "execution_count": null,
      "outputs": []
    },
    {
      "cell_type": "code",
      "metadata": {
        "colab": {
          "base_uri": "https://localhost:8080/"
        },
        "id": "I9niUvqq3x40",
        "outputId": "56de1dc2-255e-42fa-9610-718e944b6cd4"
      },
      "source": [
        "import cv2\n",
        "import glob\n",
        "import numpy as np\n",
        "import skimage.io\n",
        "\n",
        "images = [cv2.imread(file) for file in glob.glob('lfw/*/*.jpg')]\n",
        "images=images[100:200]\n",
        "\n",
        "imagesArr=np.zeros([250,250,3])\n",
        "\n",
        "for img in images:\n",
        "  imagesArr=imagesArr+img\n",
        "\n",
        "imagesArr/=100\n",
        "skimage.io.imsave(\"newImage1.jpg\",imagesArr)\n"
      ],
      "execution_count": 37,
      "outputs": [
        {
          "output_type": "stream",
          "text": [
            "WARNING:root:Lossy conversion from float64 to uint8. Range [45.81, 199.45]. Convert image to uint8 prior to saving to suppress this warning.\n"
          ],
          "name": "stderr"
        }
      ]
    }
  ]
}