{
  "nbformat": 4,
  "nbformat_minor": 0,
  "metadata": {
    "colab": {
      "name": "Pandas.ipynb",
      "provenance": [],
      "authorship_tag": "ABX9TyP6k49yAGG9ZUNnK0b1bKKk",
      "include_colab_link": true
    },
    "kernelspec": {
      "name": "python3",
      "display_name": "Python 3"
    },
    "language_info": {
      "name": "python"
    }
  },
  "cells": [
    {
      "cell_type": "markdown",
      "metadata": {
        "id": "view-in-github",
        "colab_type": "text"
      },
      "source": [
        "<a href=\"https://colab.research.google.com/github/DerinOgrenme2021/AbdullahZengin/blob/main/Pandas.ipynb\" target=\"_parent\"><img src=\"https://colab.research.google.com/assets/colab-badge.svg\" alt=\"Open In Colab\"/></a>"
      ]
    },
    {
      "cell_type": "code",
      "metadata": {
        "id": "boM6m7KrFPh5",
        "outputId": "eb5f9964-8202-40bf-994a-e9772a5f90be",
        "colab": {
          "base_uri": "https://localhost:8080/"
        }
      },
      "source": [
        "import pandas as pd\n",
        "\n",
        "pd.__version__\n",
        "\n",
        "names=pd.Series([\"Abdullah\",\"Gizem\",\"Melike\"])\n",
        "\n",
        "print(names)\n",
        "\n",
        "ages=pd.Series([23,45,32])\n",
        "\n",
        "print(ages)\n",
        "\n",
        "df=pd.DataFrame({\"Name\":names,\"Age\":ages})\n",
        "\n",
        "print(df)"
      ],
      "execution_count": 13,
      "outputs": [
        {
          "output_type": "stream",
          "text": [
            "0    Abdullah\n",
            "1       Gizem\n",
            "2      Melike\n",
            "dtype: object\n",
            "0    23\n",
            "1    45\n",
            "2    32\n",
            "dtype: int64\n",
            "       Name  Age\n",
            "0  Abdullah   23\n",
            "1     Gizem   45\n",
            "2    Melike   32\n"
          ],
          "name": "stdout"
        }
      ]
    }
  ]
}